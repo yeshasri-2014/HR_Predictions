{
 "cells": [
  {
   "cell_type": "code",
   "execution_count": null,
   "metadata": {},
   "outputs": [],
   "source": [
    "import pandas_profiling\n",
    "import matplotlib.pyplot as plt                                     \n",
    "import seaborn as sns\n",
    "import pandas as pd \n",
    "import numpy as np\n",
    "%matplotlib inline\n",
    "sns.set()"
   ]
  },
  {
   "cell_type": "markdown",
   "metadata": {},
   "source": [
    "#### Load department_data table"
   ]
  },
  {
   "cell_type": "code",
   "execution_count": null,
   "metadata": {},
   "outputs": [],
   "source": [
    "depart_data_df = pd.read_csv('department_data.csv')\n",
    "del depart_data_df['Unnamed: 0']\n",
    "depart_data_df.head()"
   ]
  },
  {
   "cell_type": "code",
   "execution_count": 3,
   "metadata": {},
   "outputs": [
    {
     "data": {
      "text/plain": [
       "array(['D00-IT', 'D00-SS', 'D00-TP', 'D00-ENG', 'D00-SP', 'D00-FN',\n",
       "       'D00-PR', 'D00-AD', 'D00-MN', 'D00-MT', 'D00-PD'], dtype=object)"
      ]
     },
     "execution_count": 3,
     "metadata": {},
     "output_type": "execute_result"
    }
   ],
   "source": [
    "depart_data_df['dept_id'].unique()"
   ]
  },
  {
   "cell_type": "code",
   "execution_count": 4,
   "metadata": {},
   "outputs": [
    {
     "data": {
      "text/plain": [
       "(11, 3)"
      ]
     },
     "execution_count": 4,
     "metadata": {},
     "output_type": "execute_result"
    }
   ],
   "source": [
    "depart_data_df.shape"
   ]
  },
  {
   "cell_type": "markdown",
   "metadata": {},
   "source": [
    "#### Load employee_details_data table"
   ]
  },
  {
   "cell_type": "code",
   "execution_count": 5,
   "metadata": {},
   "outputs": [
    {
     "data": {
      "text/html": [
       "<div>\n",
       "<style scoped>\n",
       "    .dataframe tbody tr th:only-of-type {\n",
       "        vertical-align: middle;\n",
       "    }\n",
       "\n",
       "    .dataframe tbody tr th {\n",
       "        vertical-align: top;\n",
       "    }\n",
       "\n",
       "    .dataframe thead th {\n",
       "        text-align: right;\n",
       "    }\n",
       "</style>\n",
       "<table border=\"1\" class=\"dataframe\">\n",
       "  <thead>\n",
       "    <tr style=\"text-align: right;\">\n",
       "      <th></th>\n",
       "      <th>employee_id</th>\n",
       "      <th>age</th>\n",
       "      <th>gender</th>\n",
       "      <th>marital_status</th>\n",
       "    </tr>\n",
       "  </thead>\n",
       "  <tbody>\n",
       "    <tr>\n",
       "      <th>0</th>\n",
       "      <td>113558</td>\n",
       "      <td>43</td>\n",
       "      <td>Male</td>\n",
       "      <td>Married</td>\n",
       "    </tr>\n",
       "    <tr>\n",
       "      <th>1</th>\n",
       "      <td>112256</td>\n",
       "      <td>24</td>\n",
       "      <td>Female</td>\n",
       "      <td>Unmarried</td>\n",
       "    </tr>\n",
       "    <tr>\n",
       "      <th>2</th>\n",
       "      <td>112586</td>\n",
       "      <td>22</td>\n",
       "      <td>Female</td>\n",
       "      <td>Unmarried</td>\n",
       "    </tr>\n",
       "    <tr>\n",
       "      <th>3</th>\n",
       "      <td>108071</td>\n",
       "      <td>36</td>\n",
       "      <td>Male</td>\n",
       "      <td>Married</td>\n",
       "    </tr>\n",
       "    <tr>\n",
       "      <th>4</th>\n",
       "      <td>116915</td>\n",
       "      <td>38</td>\n",
       "      <td>Male</td>\n",
       "      <td>Married</td>\n",
       "    </tr>\n",
       "  </tbody>\n",
       "</table>\n",
       "</div>"
      ],
      "text/plain": [
       "   employee_id  age  gender marital_status\n",
       "0       113558   43    Male        Married\n",
       "1       112256   24  Female      Unmarried\n",
       "2       112586   22  Female      Unmarried\n",
       "3       108071   36    Male        Married\n",
       "4       116915   38    Male        Married"
      ]
     },
     "execution_count": 5,
     "metadata": {},
     "output_type": "execute_result"
    }
   ],
   "source": [
    "emply_details_data = pd.read_csv('employee_details_data.csv')\n",
    "del emply_details_data['Unnamed: 0']\n",
    "emply_details_data.head()"
   ]
  },
  {
   "cell_type": "code",
   "execution_count": null,
   "metadata": {},
   "outputs": [],
   "source": [
    "emply_details_data.shape"
   ]
  },
  {
   "cell_type": "markdown",
   "metadata": {},
   "source": [
    "#### Load empolyee_data table"
   ]
  },
  {
   "cell_type": "code",
   "execution_count": 6,
   "metadata": {},
   "outputs": [
    {
     "data": {
      "text/html": [
       "<div>\n",
       "<style scoped>\n",
       "    .dataframe tbody tr th:only-of-type {\n",
       "        vertical-align: middle;\n",
       "    }\n",
       "\n",
       "    .dataframe tbody tr th {\n",
       "        vertical-align: top;\n",
       "    }\n",
       "\n",
       "    .dataframe thead th {\n",
       "        text-align: right;\n",
       "    }\n",
       "</style>\n",
       "<table border=\"1\" class=\"dataframe\">\n",
       "  <thead>\n",
       "    <tr style=\"text-align: right;\">\n",
       "      <th></th>\n",
       "      <th>avg_monthly_hrs</th>\n",
       "      <th>department</th>\n",
       "      <th>filed_complaint</th>\n",
       "      <th>last_evaluation</th>\n",
       "      <th>n_projects</th>\n",
       "      <th>recently_promoted</th>\n",
       "      <th>salary</th>\n",
       "      <th>satisfaction</th>\n",
       "      <th>status</th>\n",
       "      <th>tenure</th>\n",
       "      <th>employee_id</th>\n",
       "    </tr>\n",
       "  </thead>\n",
       "  <tbody>\n",
       "    <tr>\n",
       "      <th>0</th>\n",
       "      <td>246.0</td>\n",
       "      <td>NaN</td>\n",
       "      <td>NaN</td>\n",
       "      <td>0.866838</td>\n",
       "      <td>6</td>\n",
       "      <td>NaN</td>\n",
       "      <td>medium</td>\n",
       "      <td>0.134415</td>\n",
       "      <td>Left</td>\n",
       "      <td>4.0</td>\n",
       "      <td>124467</td>\n",
       "    </tr>\n",
       "    <tr>\n",
       "      <th>1</th>\n",
       "      <td>134.0</td>\n",
       "      <td>NaN</td>\n",
       "      <td>NaN</td>\n",
       "      <td>0.555718</td>\n",
       "      <td>2</td>\n",
       "      <td>NaN</td>\n",
       "      <td>low</td>\n",
       "      <td>0.511041</td>\n",
       "      <td>Left</td>\n",
       "      <td>3.0</td>\n",
       "      <td>112210</td>\n",
       "    </tr>\n",
       "    <tr>\n",
       "      <th>2</th>\n",
       "      <td>156.0</td>\n",
       "      <td>D00-SS</td>\n",
       "      <td>1.0</td>\n",
       "      <td>0.474082</td>\n",
       "      <td>2</td>\n",
       "      <td>NaN</td>\n",
       "      <td>medium</td>\n",
       "      <td>0.405101</td>\n",
       "      <td>Left</td>\n",
       "      <td>3.0</td>\n",
       "      <td>126150</td>\n",
       "    </tr>\n",
       "    <tr>\n",
       "      <th>3</th>\n",
       "      <td>256.0</td>\n",
       "      <td>D00-SP</td>\n",
       "      <td>NaN</td>\n",
       "      <td>0.961360</td>\n",
       "      <td>6</td>\n",
       "      <td>NaN</td>\n",
       "      <td>low</td>\n",
       "      <td>0.152974</td>\n",
       "      <td>Left</td>\n",
       "      <td>4.0</td>\n",
       "      <td>125346</td>\n",
       "    </tr>\n",
       "    <tr>\n",
       "      <th>4</th>\n",
       "      <td>146.0</td>\n",
       "      <td>D00-SS</td>\n",
       "      <td>NaN</td>\n",
       "      <td>0.507349</td>\n",
       "      <td>2</td>\n",
       "      <td>NaN</td>\n",
       "      <td>medium</td>\n",
       "      <td>0.434845</td>\n",
       "      <td>Left</td>\n",
       "      <td>3.0</td>\n",
       "      <td>113707</td>\n",
       "    </tr>\n",
       "  </tbody>\n",
       "</table>\n",
       "</div>"
      ],
      "text/plain": [
       "   avg_monthly_hrs department  filed_complaint  last_evaluation  n_projects  \\\n",
       "0            246.0        NaN              NaN         0.866838           6   \n",
       "1            134.0        NaN              NaN         0.555718           2   \n",
       "2            156.0     D00-SS              1.0         0.474082           2   \n",
       "3            256.0     D00-SP              NaN         0.961360           6   \n",
       "4            146.0     D00-SS              NaN         0.507349           2   \n",
       "\n",
       "   recently_promoted  salary  satisfaction status  tenure  employee_id  \n",
       "0                NaN  medium      0.134415   Left     4.0       124467  \n",
       "1                NaN     low      0.511041   Left     3.0       112210  \n",
       "2                NaN  medium      0.405101   Left     3.0       126150  \n",
       "3                NaN     low      0.152974   Left     4.0       125346  \n",
       "4                NaN  medium      0.434845   Left     3.0       113707  "
      ]
     },
     "execution_count": 6,
     "metadata": {},
     "output_type": "execute_result"
    }
   ],
   "source": [
    "emply_data = pd.read_csv('employee_data.csv')\n",
    "del emply_data['Unnamed: 0']\n",
    "emply_data.head()"
   ]
  },
  {
   "cell_type": "code",
   "execution_count": null,
   "metadata": {},
   "outputs": [],
   "source": [
    "emply_data.shape"
   ]
  },
  {
   "cell_type": "code",
   "execution_count": null,
   "metadata": {},
   "outputs": [],
   "source": [
    "sum(pd.isnull(emply_data['status']) == True)"
   ]
  },
  {
   "cell_type": "code",
   "execution_count": 7,
   "metadata": {},
   "outputs": [
    {
     "data": {
      "text/html": [
       "<div>\n",
       "<style scoped>\n",
       "    .dataframe tbody tr th:only-of-type {\n",
       "        vertical-align: middle;\n",
       "    }\n",
       "\n",
       "    .dataframe tbody tr th {\n",
       "        vertical-align: top;\n",
       "    }\n",
       "\n",
       "    .dataframe thead th {\n",
       "        text-align: right;\n",
       "    }\n",
       "</style>\n",
       "<table border=\"1\" class=\"dataframe\">\n",
       "  <thead>\n",
       "    <tr style=\"text-align: right;\">\n",
       "      <th></th>\n",
       "      <th>employee_id</th>\n",
       "      <th>age</th>\n",
       "      <th>gender</th>\n",
       "      <th>marital_status</th>\n",
       "      <th>avg_monthly_hrs</th>\n",
       "      <th>department</th>\n",
       "      <th>filed_complaint</th>\n",
       "      <th>last_evaluation</th>\n",
       "      <th>n_projects</th>\n",
       "      <th>recently_promoted</th>\n",
       "      <th>salary</th>\n",
       "      <th>satisfaction</th>\n",
       "      <th>status</th>\n",
       "      <th>tenure</th>\n",
       "    </tr>\n",
       "  </thead>\n",
       "  <tbody>\n",
       "    <tr>\n",
       "      <th>0</th>\n",
       "      <td>113558</td>\n",
       "      <td>43.0</td>\n",
       "      <td>Male</td>\n",
       "      <td>Married</td>\n",
       "      <td>111.0</td>\n",
       "      <td>D00-PR</td>\n",
       "      <td>NaN</td>\n",
       "      <td>0.753977</td>\n",
       "      <td>5</td>\n",
       "      <td>1.0</td>\n",
       "      <td>medium</td>\n",
       "      <td>0.921208</td>\n",
       "      <td>Employed</td>\n",
       "      <td>4.0</td>\n",
       "    </tr>\n",
       "    <tr>\n",
       "      <th>1</th>\n",
       "      <td>112256</td>\n",
       "      <td>24.0</td>\n",
       "      <td>Female</td>\n",
       "      <td>Unmarried</td>\n",
       "      <td>201.0</td>\n",
       "      <td>D00-MN</td>\n",
       "      <td>NaN</td>\n",
       "      <td>0.964453</td>\n",
       "      <td>3</td>\n",
       "      <td>NaN</td>\n",
       "      <td>medium</td>\n",
       "      <td>0.568479</td>\n",
       "      <td>Employed</td>\n",
       "      <td>3.0</td>\n",
       "    </tr>\n",
       "    <tr>\n",
       "      <th>2</th>\n",
       "      <td>112586</td>\n",
       "      <td>22.0</td>\n",
       "      <td>Female</td>\n",
       "      <td>Unmarried</td>\n",
       "      <td>239.0</td>\n",
       "      <td>D00-SS</td>\n",
       "      <td>NaN</td>\n",
       "      <td>0.756458</td>\n",
       "      <td>3</td>\n",
       "      <td>NaN</td>\n",
       "      <td>low</td>\n",
       "      <td>0.144812</td>\n",
       "      <td>Employed</td>\n",
       "      <td>6.0</td>\n",
       "    </tr>\n",
       "    <tr>\n",
       "      <th>3</th>\n",
       "      <td>108071</td>\n",
       "      <td>36.0</td>\n",
       "      <td>Male</td>\n",
       "      <td>Married</td>\n",
       "      <td>151.0</td>\n",
       "      <td>D00-PR</td>\n",
       "      <td>NaN</td>\n",
       "      <td>0.608282</td>\n",
       "      <td>5</td>\n",
       "      <td>NaN</td>\n",
       "      <td>medium</td>\n",
       "      <td>0.210300</td>\n",
       "      <td>Employed</td>\n",
       "      <td>6.0</td>\n",
       "    </tr>\n",
       "    <tr>\n",
       "      <th>4</th>\n",
       "      <td>116915</td>\n",
       "      <td>38.0</td>\n",
       "      <td>Male</td>\n",
       "      <td>Married</td>\n",
       "      <td>259.0</td>\n",
       "      <td>-IT</td>\n",
       "      <td>NaN</td>\n",
       "      <td>0.749206</td>\n",
       "      <td>4</td>\n",
       "      <td>NaN</td>\n",
       "      <td>medium</td>\n",
       "      <td>0.888514</td>\n",
       "      <td>Employed</td>\n",
       "      <td>3.0</td>\n",
       "    </tr>\n",
       "  </tbody>\n",
       "</table>\n",
       "</div>"
      ],
      "text/plain": [
       "   employee_id   age  gender marital_status  avg_monthly_hrs department  \\\n",
       "0       113558  43.0    Male        Married            111.0     D00-PR   \n",
       "1       112256  24.0  Female      Unmarried            201.0     D00-MN   \n",
       "2       112586  22.0  Female      Unmarried            239.0     D00-SS   \n",
       "3       108071  36.0    Male        Married            151.0     D00-PR   \n",
       "4       116915  38.0    Male        Married            259.0        -IT   \n",
       "\n",
       "   filed_complaint  last_evaluation  n_projects  recently_promoted  salary  \\\n",
       "0              NaN         0.753977           5                1.0  medium   \n",
       "1              NaN         0.964453           3                NaN  medium   \n",
       "2              NaN         0.756458           3                NaN     low   \n",
       "3              NaN         0.608282           5                NaN  medium   \n",
       "4              NaN         0.749206           4                NaN  medium   \n",
       "\n",
       "   satisfaction    status  tenure  \n",
       "0      0.921208  Employed     4.0  \n",
       "1      0.568479  Employed     3.0  \n",
       "2      0.144812  Employed     6.0  \n",
       "3      0.210300  Employed     6.0  \n",
       "4      0.888514  Employed     3.0  "
      ]
     },
     "execution_count": 7,
     "metadata": {},
     "output_type": "execute_result"
    }
   ],
   "source": [
    "df_merge = pd.merge(emply_details_data, emply_data, how='right',on=\"employee_id\")\n",
    "df_merge.head()"
   ]
  },
  {
   "cell_type": "code",
   "execution_count": null,
   "metadata": {},
   "outputs": [],
   "source": [
    "sum(pd.isnull(df_merge['status']))"
   ]
  },
  {
   "cell_type": "code",
   "execution_count": null,
   "metadata": {},
   "outputs": [],
   "source": [
    "df_merge['department'].unique()"
   ]
  },
  {
   "cell_type": "code",
   "execution_count": 8,
   "metadata": {},
   "outputs": [],
   "source": [
    "#Assuming \"-IT\" and 'D00-IT' are same, merging them into \"D00-IT\"\n",
    "df_merge['department'] = df_merge['department'].replace(\"-IT\",\"D00-IT\")"
   ]
  },
  {
   "cell_type": "code",
   "execution_count": 9,
   "metadata": {},
   "outputs": [
    {
     "data": {
      "text/html": [
       "<div>\n",
       "<style scoped>\n",
       "    .dataframe tbody tr th:only-of-type {\n",
       "        vertical-align: middle;\n",
       "    }\n",
       "\n",
       "    .dataframe tbody tr th {\n",
       "        vertical-align: top;\n",
       "    }\n",
       "\n",
       "    .dataframe thead th {\n",
       "        text-align: right;\n",
       "    }\n",
       "</style>\n",
       "<table border=\"1\" class=\"dataframe\">\n",
       "  <thead>\n",
       "    <tr style=\"text-align: right;\">\n",
       "      <th></th>\n",
       "      <th>employee_id</th>\n",
       "      <th>age</th>\n",
       "      <th>gender</th>\n",
       "      <th>marital_status</th>\n",
       "      <th>avg_monthly_hrs</th>\n",
       "      <th>department</th>\n",
       "      <th>filed_complaint</th>\n",
       "      <th>last_evaluation</th>\n",
       "      <th>n_projects</th>\n",
       "      <th>recently_promoted</th>\n",
       "      <th>salary</th>\n",
       "      <th>satisfaction</th>\n",
       "      <th>status</th>\n",
       "      <th>tenure</th>\n",
       "      <th>dept_id</th>\n",
       "      <th>dept_name</th>\n",
       "      <th>dept_head</th>\n",
       "    </tr>\n",
       "  </thead>\n",
       "  <tbody>\n",
       "    <tr>\n",
       "      <th>0</th>\n",
       "      <td>113558</td>\n",
       "      <td>43.0</td>\n",
       "      <td>Male</td>\n",
       "      <td>Married</td>\n",
       "      <td>111.0</td>\n",
       "      <td>D00-PR</td>\n",
       "      <td>NaN</td>\n",
       "      <td>0.753977</td>\n",
       "      <td>5</td>\n",
       "      <td>1.0</td>\n",
       "      <td>medium</td>\n",
       "      <td>0.921208</td>\n",
       "      <td>Employed</td>\n",
       "      <td>4.0</td>\n",
       "      <td>D00-PR</td>\n",
       "      <td>Procurement</td>\n",
       "      <td>Louie Viles</td>\n",
       "    </tr>\n",
       "    <tr>\n",
       "      <th>1</th>\n",
       "      <td>112256</td>\n",
       "      <td>24.0</td>\n",
       "      <td>Female</td>\n",
       "      <td>Unmarried</td>\n",
       "      <td>201.0</td>\n",
       "      <td>D00-MN</td>\n",
       "      <td>NaN</td>\n",
       "      <td>0.964453</td>\n",
       "      <td>3</td>\n",
       "      <td>NaN</td>\n",
       "      <td>medium</td>\n",
       "      <td>0.568479</td>\n",
       "      <td>Employed</td>\n",
       "      <td>3.0</td>\n",
       "      <td>D00-MN</td>\n",
       "      <td>Management</td>\n",
       "      <td>Ellie Trafton</td>\n",
       "    </tr>\n",
       "    <tr>\n",
       "      <th>2</th>\n",
       "      <td>112586</td>\n",
       "      <td>22.0</td>\n",
       "      <td>Female</td>\n",
       "      <td>Unmarried</td>\n",
       "      <td>239.0</td>\n",
       "      <td>D00-SS</td>\n",
       "      <td>NaN</td>\n",
       "      <td>0.756458</td>\n",
       "      <td>3</td>\n",
       "      <td>NaN</td>\n",
       "      <td>low</td>\n",
       "      <td>0.144812</td>\n",
       "      <td>Employed</td>\n",
       "      <td>6.0</td>\n",
       "      <td>D00-SS</td>\n",
       "      <td>Sales</td>\n",
       "      <td>Edward J Bayley</td>\n",
       "    </tr>\n",
       "    <tr>\n",
       "      <th>3</th>\n",
       "      <td>108071</td>\n",
       "      <td>36.0</td>\n",
       "      <td>Male</td>\n",
       "      <td>Married</td>\n",
       "      <td>151.0</td>\n",
       "      <td>D00-PR</td>\n",
       "      <td>NaN</td>\n",
       "      <td>0.608282</td>\n",
       "      <td>5</td>\n",
       "      <td>NaN</td>\n",
       "      <td>medium</td>\n",
       "      <td>0.210300</td>\n",
       "      <td>Employed</td>\n",
       "      <td>6.0</td>\n",
       "      <td>D00-PR</td>\n",
       "      <td>Procurement</td>\n",
       "      <td>Louie Viles</td>\n",
       "    </tr>\n",
       "    <tr>\n",
       "      <th>4</th>\n",
       "      <td>116915</td>\n",
       "      <td>38.0</td>\n",
       "      <td>Male</td>\n",
       "      <td>Married</td>\n",
       "      <td>259.0</td>\n",
       "      <td>D00-IT</td>\n",
       "      <td>NaN</td>\n",
       "      <td>0.749206</td>\n",
       "      <td>4</td>\n",
       "      <td>NaN</td>\n",
       "      <td>medium</td>\n",
       "      <td>0.888514</td>\n",
       "      <td>Employed</td>\n",
       "      <td>3.0</td>\n",
       "      <td>D00-IT</td>\n",
       "      <td>IT</td>\n",
       "      <td>Henry Adey</td>\n",
       "    </tr>\n",
       "  </tbody>\n",
       "</table>\n",
       "</div>"
      ],
      "text/plain": [
       "   employee_id   age  gender marital_status  avg_monthly_hrs department  \\\n",
       "0       113558  43.0    Male        Married            111.0     D00-PR   \n",
       "1       112256  24.0  Female      Unmarried            201.0     D00-MN   \n",
       "2       112586  22.0  Female      Unmarried            239.0     D00-SS   \n",
       "3       108071  36.0    Male        Married            151.0     D00-PR   \n",
       "4       116915  38.0    Male        Married            259.0     D00-IT   \n",
       "\n",
       "   filed_complaint  last_evaluation  n_projects  recently_promoted  salary  \\\n",
       "0              NaN         0.753977           5                1.0  medium   \n",
       "1              NaN         0.964453           3                NaN  medium   \n",
       "2              NaN         0.756458           3                NaN     low   \n",
       "3              NaN         0.608282           5                NaN  medium   \n",
       "4              NaN         0.749206           4                NaN  medium   \n",
       "\n",
       "   satisfaction    status  tenure dept_id    dept_name        dept_head  \n",
       "0      0.921208  Employed     4.0  D00-PR  Procurement      Louie Viles  \n",
       "1      0.568479  Employed     3.0  D00-MN   Management    Ellie Trafton  \n",
       "2      0.144812  Employed     6.0  D00-SS        Sales  Edward J Bayley  \n",
       "3      0.210300  Employed     6.0  D00-PR  Procurement      Louie Viles  \n",
       "4      0.888514  Employed     3.0  D00-IT           IT       Henry Adey  "
      ]
     },
     "execution_count": 9,
     "metadata": {},
     "output_type": "execute_result"
    }
   ],
   "source": [
    "final_df = pd.merge(df_merge,depart_data_df,how='left',left_on='department',right_on='dept_id')\n",
    "final_df.head()"
   ]
  },
  {
   "cell_type": "code",
   "execution_count": 10,
   "metadata": {},
   "outputs": [],
   "source": [
    "#As department and dept_id are same deleting the dept_is\n",
    "del final_df['dept_id']\n",
    "del final_df['dept_name']\n",
    "del final_df['dept_head']\n"
   ]
  },
  {
   "cell_type": "code",
   "execution_count": 11,
   "metadata": {},
   "outputs": [],
   "source": [
    "del final_df['age']\n",
    "del final_df['gender']\n",
    "del final_df['marital_status']"
   ]
  },
  {
   "cell_type": "code",
   "execution_count": 12,
   "metadata": {},
   "outputs": [
    {
     "name": "stdout",
     "output_type": "stream",
     "text": [
      "<class 'pandas.core.frame.DataFrame'>\n",
      "Int64Index: 14150 entries, 0 to 14149\n",
      "Data columns (total 11 columns):\n",
      "employee_id          14150 non-null int64\n",
      "avg_monthly_hrs      14150 non-null float64\n",
      "department           13443 non-null object\n",
      "filed_complaint      2046 non-null float64\n",
      "last_evaluation      12663 non-null float64\n",
      "n_projects           14150 non-null int64\n",
      "recently_promoted    297 non-null float64\n",
      "salary               14150 non-null object\n",
      "satisfaction         14000 non-null float64\n",
      "status               14150 non-null object\n",
      "tenure               14000 non-null float64\n",
      "dtypes: float64(6), int64(2), object(3)\n",
      "memory usage: 1.3+ MB\n"
     ]
    }
   ],
   "source": [
    "final_df.info()"
   ]
  },
  {
   "cell_type": "markdown",
   "metadata": {},
   "source": [
    "### Analyzing all the features of the data set and replace them with approriate values"
   ]
  },
  {
   "cell_type": "markdown",
   "metadata": {},
   "source": [
    "#### . employee_id - has no missing values\n",
    "#### . avg_monthly_hrs - has no missing values\n",
    "#### . n_projects - has no missing values\n",
    "#### . salary - has no missing values\n",
    "#### . status - has no missing values, this is the target value"
   ]
  },
  {
   "cell_type": "code",
   "execution_count": 13,
   "metadata": {},
   "outputs": [],
   "source": [
    "#Convert the \"avg_monthly_hrs\" column to int\n",
    "final_df['avg_monthly_hrs']=final_df.avg_monthly_hrs.astype(int)"
   ]
  },
  {
   "cell_type": "code",
   "execution_count": 14,
   "metadata": {},
   "outputs": [
    {
     "data": {
      "text/plain": [
       "array([2, 1, 3], dtype=int64)"
      ]
     },
     "execution_count": 14,
     "metadata": {},
     "output_type": "execute_result"
    }
   ],
   "source": [
    "#Replace salary fields - low=1, medium=2, high=3 \n",
    "final_df['salary'] = final_df['salary'].replace(\"low\",1)\n",
    "final_df['salary'] = final_df['salary'].replace(\"medium\",2)\n",
    "final_df['salary'] = final_df['salary'].replace(\"high\",3)\n",
    "final_df['salary'].unique()"
   ]
  },
  {
   "cell_type": "code",
   "execution_count": 15,
   "metadata": {},
   "outputs": [
    {
     "data": {
      "text/plain": [
       "array([0, 1], dtype=int64)"
      ]
     },
     "execution_count": 15,
     "metadata": {},
     "output_type": "execute_result"
    }
   ],
   "source": [
    "#Replace Status - Employed=0 and Left=1\n",
    "final_df['status'] = final_df['status'].replace(\"Employed\",0)\n",
    "final_df['status'] = final_df['status'].replace(\"Left\",1)\n",
    "final_df['status'].unique()"
   ]
  },
  {
   "cell_type": "markdown",
   "metadata": {},
   "source": [
    "#### \"department\" - has more than 700 empty values replace them with mode\n",
    "* Replace the Null values with the mode"
   ]
  },
  {
   "cell_type": "code",
   "execution_count": 16,
   "metadata": {},
   "outputs": [
    {
     "data": {
      "text/plain": [
       "array(['D00-PR', 'D00-MN', 'D00-SS', 'D00-IT', 'D00-SP', 'D00-ENG',\n",
       "       'D00-PD', 'D00-MT', 'D00-TP', nan, 'D00-AD', 'D00-FN'],\n",
       "      dtype=object)"
      ]
     },
     "execution_count": 16,
     "metadata": {},
     "output_type": "execute_result"
    }
   ],
   "source": [
    "final_df['department'].unique()"
   ]
  },
  {
   "cell_type": "code",
   "execution_count": 17,
   "metadata": {},
   "outputs": [],
   "source": [
    "mode_department = final_df.department.mode()\n",
    "#print(mode_department[0])\n",
    "final_df.department.fillna(mode_department[0], inplace = True)"
   ]
  },
  {
   "cell_type": "code",
   "execution_count": 18,
   "metadata": {},
   "outputs": [],
   "source": [
    "department_values=final_df['department'].unique()\n",
    "for index,value in np.ndenumerate(department_values):\n",
    "    #print(index[0],value)\n",
    "    final_df['department'] = final_df['department'].replace(value,index[0])"
   ]
  },
  {
   "cell_type": "code",
   "execution_count": 19,
   "metadata": {},
   "outputs": [
    {
     "data": {
      "text/plain": [
       "array([ 0,  1,  2,  3,  4,  5,  6,  7,  8,  9, 10], dtype=int64)"
      ]
     },
     "execution_count": 19,
     "metadata": {},
     "output_type": "execute_result"
    }
   ],
   "source": [
    "final_df['department'].unique()"
   ]
  },
  {
   "cell_type": "markdown",
   "metadata": {},
   "source": [
    "#### filed_complaint and recently_promoted has most of NULL values\n",
    "* Inorder to cross check how this values will effect the target variable, lets replace all NaN with 0"
   ]
  },
  {
   "cell_type": "code",
   "execution_count": null,
   "metadata": {},
   "outputs": [],
   "source": [
    "#final_df['filed_complaint'].unique()"
   ]
  },
  {
   "cell_type": "code",
   "execution_count": null,
   "metadata": {},
   "outputs": [],
   "source": [
    "#final_df.filed_complaint.fillna(0, inplace = True)\n",
    "#final_df.recently_promoted.fillna(0, inplace = True)"
   ]
  },
  {
   "cell_type": "code",
   "execution_count": null,
   "metadata": {},
   "outputs": [],
   "source": [
    "#final_df['filed_complaint'] = final_df.filed_complaint.astype(int)\n",
    "#final_df['recently_promoted'] = final_df.recently_promoted.astype(int)"
   ]
  },
  {
   "cell_type": "code",
   "execution_count": null,
   "metadata": {},
   "outputs": [],
   "source": [
    "#final_df['filed_complaint'].unique()\n",
    "#final_df['recently_promoted'].unique()\n",
    "#recently_promoted "
   ]
  },
  {
   "cell_type": "markdown",
   "metadata": {},
   "source": [
    "#### last_evaluation has 1487 Nan Values, replacing them with mean "
   ]
  },
  {
   "cell_type": "code",
   "execution_count": null,
   "metadata": {},
   "outputs": [],
   "source": [
    "#sum(pd.isnull(final_df['last_evaluation']))"
   ]
  },
  {
   "cell_type": "code",
   "execution_count": null,
   "metadata": {},
   "outputs": [],
   "source": [
    "#final_df['last_evaluation'].unique()"
   ]
  },
  {
   "cell_type": "code",
   "execution_count": null,
   "metadata": {},
   "outputs": [],
   "source": [
    "#mean_last_evaluation = final_df.last_evaluation.mean()\n",
    "#print(mean_last_evaluation)\n",
    "#final_df.last_evaluation.fillna(mean_last_evaluation, inplace = True)"
   ]
  },
  {
   "cell_type": "code",
   "execution_count": null,
   "metadata": {},
   "outputs": [],
   "source": [
    "#sum(pd.isnull(final_df['last_evaluation']))"
   ]
  },
  {
   "cell_type": "markdown",
   "metadata": {},
   "source": [
    "#### satisfaction and tenure has 500 missing values\n",
    "* Replace the missing value with mean"
   ]
  },
  {
   "cell_type": "code",
   "execution_count": 20,
   "metadata": {},
   "outputs": [],
   "source": [
    "final_df.tenure.fillna(final_df.tenure.mean(), inplace = True)\n",
    "final_df['tenure'] = final_df.tenure.astype(int)"
   ]
  },
  {
   "cell_type": "code",
   "execution_count": 21,
   "metadata": {},
   "outputs": [],
   "source": [
    "final_df.satisfaction.fillna(final_df.satisfaction.mean(), inplace = True)"
   ]
  },
  {
   "cell_type": "code",
   "execution_count": 22,
   "metadata": {},
   "outputs": [
    {
     "data": {
      "text/plain": [
       "array([0.921208, 0.568479, 0.144812, ..., 0.437359, 0.68214 , 0.631046])"
      ]
     },
     "execution_count": 22,
     "metadata": {},
     "output_type": "execute_result"
    }
   ],
   "source": [
    "final_df['satisfaction'].unique()"
   ]
  },
  {
   "cell_type": "code",
   "execution_count": 23,
   "metadata": {},
   "outputs": [
    {
     "data": {
      "text/plain": [
       "array([ 4,  3,  6,  2,  5, 10,  7,  8], dtype=int64)"
      ]
     },
     "execution_count": 23,
     "metadata": {},
     "output_type": "execute_result"
    }
   ],
   "source": [
    "final_df['tenure'].unique()"
   ]
  },
  {
   "cell_type": "code",
   "execution_count": 24,
   "metadata": {},
   "outputs": [
    {
     "name": "stdout",
     "output_type": "stream",
     "text": [
      "<class 'pandas.core.frame.DataFrame'>\n",
      "Int64Index: 14150 entries, 0 to 14149\n",
      "Data columns (total 11 columns):\n",
      "employee_id          14150 non-null int64\n",
      "avg_monthly_hrs      14150 non-null int32\n",
      "department           14150 non-null int64\n",
      "filed_complaint      2046 non-null float64\n",
      "last_evaluation      12663 non-null float64\n",
      "n_projects           14150 non-null int64\n",
      "recently_promoted    297 non-null float64\n",
      "salary               14150 non-null int64\n",
      "satisfaction         14150 non-null float64\n",
      "status               14150 non-null int64\n",
      "tenure               14150 non-null int32\n",
      "dtypes: float64(4), int32(2), int64(5)\n",
      "memory usage: 1.2 MB\n"
     ]
    }
   ],
   "source": [
    "final_df.info()"
   ]
  },
  {
   "cell_type": "code",
   "execution_count": 28,
   "metadata": {},
   "outputs": [],
   "source": [
    "final_df.to_csv('final_data_set_09082019_1.csv')"
   ]
  },
  {
   "cell_type": "code",
   "execution_count": 26,
   "metadata": {},
   "outputs": [
    {
     "data": {
      "text/plain": [
       "avg_monthly_hrs      0.074082\n",
       "department           0.015586\n",
       "filed_complaint           NaN\n",
       "last_evaluation      0.040814\n",
       "n_projects           0.027647\n",
       "recently_promoted         NaN\n",
       "salary              -0.156124\n",
       "satisfaction        -0.386584\n",
       "status               1.000000\n",
       "tenure               0.142071\n",
       "Name: status, dtype: float64"
      ]
     },
     "execution_count": 26,
     "metadata": {},
     "output_type": "execute_result"
    }
   ],
   "source": [
    "final_df[final_df.columns[1:]].corr()['status'][:]"
   ]
  },
  {
   "cell_type": "code",
   "execution_count": 27,
   "metadata": {},
   "outputs": [
    {
     "data": {
      "text/plain": [
       "Text(0.5,1,'Correlation between features')"
      ]
     },
     "execution_count": 27,
     "metadata": {},
     "output_type": "execute_result"
    },
    {
     "data": {
      "image/png": "[encoded data removed]",
      "text/plain": [
       "<matplotlib.figure.Figure at 0x28351ec16a0>"
      ]
     },
     "metadata": {},
     "output_type": "display_data"
    }
   ],
   "source": [
    "corr = final_df.corr()\n",
    "plt.figure(figsize=(15,15))\n",
    "sns.heatmap(corr, annot=True, square = True, cmap='YlGnBu',linecolor ='black')\n",
    "#sns.heatmap(corr,vmax=.8,linewidth=.01, square = True, annot = True,cmap='YlGnBu',linecolor ='black')\n",
    "plt.title('Correlation between features')"
   ]
  }
 ],
 "metadata": {
  "kernelspec": {
   "display_name": "Python 3",
   "language": "python",
   "name": "python3"
  },
  "language_info": {
   "codemirror_mode": {
    "name": "ipython",
    "version": 3
   },
   "file_extension": ".py",
   "mimetype": "text/x-python",
   "name": "python",
   "nbconvert_exporter": "python",
   "pygments_lexer": "ipython3",
   "version": "3.6.4"
  }
 },
 "nbformat": 4,
 "nbformat_minor": 2
}
